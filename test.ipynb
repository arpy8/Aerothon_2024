{
 "cells": [
  {
   "cell_type": "code",
   "execution_count": 9,
   "metadata": {},
   "outputs": [],
   "source": [
    "test = [(423, 95), (158, 207), (72, 92), (124, 384), (382, 301), (568, 353), (517, 209), (236, 252)]"
   ]
  },
  {
   "cell_type": "code",
   "execution_count": 41,
   "metadata": {},
   "outputs": [],
   "source": [
    "import numpy as np\n",
    "\n",
    "path = []\n",
    "def find_closest_hotspot(curr_hotspot, rest_hotspots):    \n",
    "    if len(rest_hotspots) < 1:\n",
    "        return path\n",
    "    \n",
    "    rest_hotspots = np.array(rest_hotspots)\n",
    "    distances = np.sqrt(np.sum((rest_hotspots - curr_hotspot) ** 2, axis=1))\n",
    "    closest_hotspot = rest_hotspots[np.argmin(distances)]\n",
    "    path.append(closest_hotspot)\n",
    "    \n",
    "    _ = find_closest_hotspot(closest_hotspot, np.delete(rest_hotspots, np.argmin(distances), axis=0))"
   ]
  },
  {
   "cell_type": "code",
   "execution_count": 43,
   "metadata": {},
   "outputs": [
    {
     "data": {
      "text/plain": [
       "[array([517, 209]),\n",
       " array([568, 353]),\n",
       " array([382, 301]),\n",
       " array([236, 252]),\n",
       " array([158, 207]),\n",
       " array([72, 92]),\n",
       " array([124, 384]),\n",
       " array([517, 209]),\n",
       " array([568, 353]),\n",
       " array([382, 301]),\n",
       " array([236, 252]),\n",
       " array([158, 207]),\n",
       " array([72, 92]),\n",
       " array([124, 384])]"
      ]
     },
     "execution_count": 43,
     "metadata": {},
     "output_type": "execute_result"
    }
   ],
   "source": [
    "find_closest_hotspot(test[0], np.array(test[1:]))\n",
    "path"
   ]
  },
  {
   "cell_type": "code",
   "execution_count": 44,
   "metadata": {},
   "outputs": [],
   "source": [
    "from itertools import combinations\n",
    "\n",
    "def held_karp(dists):\n",
    "    n = len(dists)\n",
    "\n",
    "    # Maps each subset of the nodes to the cost to reach that subset, as well\n",
    "    # as what node it passed before reaching this subset.\n",
    "    # Node subsets are represented as set bits.\n",
    "    C = {}\n",
    "\n",
    "    # Set transition cost from initial state\n",
    "    for k in range(1, n):\n",
    "        C[(1 << k, k)] = (dists[0][k], 0)\n",
    "\n",
    "    # Iterate subsets of increasing length and store intermediate results\n",
    "    # in classic dynamic programming manner\n",
    "    for subset_size in range(2, n):\n",
    "        for subset in combinations(range(1, n), subset_size):\n",
    "            # Set bits for all nodes in this subset\n",
    "            bits = 0\n",
    "            for bit in subset:\n",
    "                bits |= 1 << bit\n",
    "\n",
    "            # Find the lowest cost to get to this subset\n",
    "            for k in subset:\n",
    "                prev = bits & ~(1 << k)\n",
    "\n",
    "                res = []\n",
    "                for m in subset:\n",
    "                    if m == 0 or m == k:\n",
    "                        continue\n",
    "                    res.append((C[(prev, m)][0] + dists[m][k], m))\n",
    "                C[(bits, k)] = min(res)\n",
    "\n",
    "    # We're interested in all bits but the least significant (the start state)\n",
    "    bits = (2**n - 1) - 1\n",
    "\n",
    "    # Calculate optimal cost\n",
    "    res = []\n",
    "    for k in range(1, n):\n",
    "        res.append((C[(bits, k)][0] + dists[k][0], k))\n",
    "    opt, parent = min(res)\n",
    "\n",
    "    # Backtrack to find full path\n",
    "    path = []\n",
    "    for i in range(n - 1):\n",
    "        path.append(parent)\n",
    "        new_bits = bits & ~(1 << parent)\n",
    "        _, parent = C[(bits, parent)]\n",
    "        bits = new_bits\n",
    "\n",
    "    # Add implicit return to start\n",
    "    path.append(0)\n",
    "\n",
    "    return opt, list(reversed(path))"
   ]
  },
  {
   "cell_type": "code",
   "execution_count": 45,
   "metadata": {},
   "outputs": [
    {
     "ename": "IndexError",
     "evalue": "tuple index out of range",
     "output_type": "error",
     "traceback": [
      "\u001b[1;31m---------------------------------------------------------------------------\u001b[0m",
      "\u001b[1;31mIndexError\u001b[0m                                Traceback (most recent call last)",
      "Cell \u001b[1;32mIn[45], line 1\u001b[0m\n\u001b[1;32m----> 1\u001b[0m \u001b[43mheld_karp\u001b[49m\u001b[43m(\u001b[49m\u001b[43mtest\u001b[49m\u001b[43m)\u001b[49m\n",
      "Cell \u001b[1;32mIn[44], line 13\u001b[0m, in \u001b[0;36mheld_karp\u001b[1;34m(dists)\u001b[0m\n\u001b[0;32m     11\u001b[0m \u001b[38;5;66;03m# Set transition cost from initial state\u001b[39;00m\n\u001b[0;32m     12\u001b[0m \u001b[38;5;28;01mfor\u001b[39;00m k \u001b[38;5;129;01min\u001b[39;00m \u001b[38;5;28mrange\u001b[39m(\u001b[38;5;241m1\u001b[39m, n):\n\u001b[1;32m---> 13\u001b[0m     C[(\u001b[38;5;241m1\u001b[39m \u001b[38;5;241m<<\u001b[39m k, k)] \u001b[38;5;241m=\u001b[39m (\u001b[43mdists\u001b[49m\u001b[43m[\u001b[49m\u001b[38;5;241;43m0\u001b[39;49m\u001b[43m]\u001b[49m\u001b[43m[\u001b[49m\u001b[43mk\u001b[49m\u001b[43m]\u001b[49m, \u001b[38;5;241m0\u001b[39m)\n\u001b[0;32m     15\u001b[0m \u001b[38;5;66;03m# Iterate subsets of increasing length and store intermediate results\u001b[39;00m\n\u001b[0;32m     16\u001b[0m \u001b[38;5;66;03m# in classic dynamic programming manner\u001b[39;00m\n\u001b[0;32m     17\u001b[0m \u001b[38;5;28;01mfor\u001b[39;00m subset_size \u001b[38;5;129;01min\u001b[39;00m \u001b[38;5;28mrange\u001b[39m(\u001b[38;5;241m2\u001b[39m, n):\n",
      "\u001b[1;31mIndexError\u001b[0m: tuple index out of range"
     ]
    }
   ],
   "source": [
    "held_karp(test)"
   ]
  },
  {
   "cell_type": "code",
   "execution_count": null,
   "metadata": {},
   "outputs": [],
   "source": []
  }
 ],
 "metadata": {
  "kernelspec": {
   "display_name": ".venv",
   "language": "python",
   "name": "python3"
  },
  "language_info": {
   "codemirror_mode": {
    "name": "ipython",
    "version": 3
   },
   "file_extension": ".py",
   "mimetype": "text/x-python",
   "name": "python",
   "nbconvert_exporter": "python",
   "pygments_lexer": "ipython3",
   "version": "3.11.9"
  }
 },
 "nbformat": 4,
 "nbformat_minor": 2
}
